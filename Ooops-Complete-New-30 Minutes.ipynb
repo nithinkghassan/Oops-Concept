{
 "cells": [
  {
   "cell_type": "code",
   "execution_count": 1,
   "metadata": {},
   "outputs": [],
   "source": [
    "import pandas as pd\n",
    "import numpy as np\n",
    "import matplotlib.pyplot as plt\n",
    "import seaborn as sns\n",
    "import warnings\n",
    "warnings.filterwarnings(\"ignore\")"
   ]
  },
  {
   "cell_type": "code",
   "execution_count": null,
   "metadata": {},
   "outputs": [],
   "source": []
  },
  {
   "cell_type": "code",
   "execution_count": 5,
   "metadata": {},
   "outputs": [
    {
     "name": "stdout",
     "output_type": "stream",
     "text": [
      "1234\n",
      "Bnaglore\n",
      "suma\n"
     ]
    }
   ],
   "source": [
    "class Car:\n",
    "    pass\n",
    "Honda=Car()\n",
    "Tata=Car()\n",
    "Suzuki=Car()\n",
    "Honda.Number=\"1234\"\n",
    "Honda.From=\"Bnaglore\"\n",
    "Honda.Model=\"i20\"\n",
    "Tata.Number=\"12345\"\n",
    "Tata.From=\"Bnaglore\"\n",
    "Tata.Model=\"suma\"\n",
    "Suzuki.Number=\"123456\"\n",
    "Suzuki.From=\"Bnaglore\"\n",
    "Suzuki.Model=\"shift\"\n",
    "print(Honda.Number)\n",
    "print(Suzuki.From)\n",
    "print(Tata.Model)\n"
   ]
  },
  {
   "cell_type": "code",
   "execution_count": 9,
   "metadata": {},
   "outputs": [
    {
     "name": "stdout",
     "output_type": "stream",
     "text": [
      "{'number': 1234, 'cc': 231, 'milage': 34}\n",
      "{'number': 3546, 'cc': 331, 'milage': 35}\n"
     ]
    }
   ],
   "source": [
    "class car:\n",
    "    def __init__(self,number,cc,milage):\n",
    "        self.number=number\n",
    "        self.cc=cc\n",
    "        self.milage=milage\n",
    "honda=car(1234,231,34)\n",
    "tata=car(3546,331,35)\n",
    "print(honda.__dict__)\n",
    "print(tata.__dict__)\n"
   ]
  },
  {
   "cell_type": "code",
   "execution_count": 10,
   "metadata": {},
   "outputs": [
    {
     "name": "stdout",
     "output_type": "stream",
     "text": [
      "{'location': 'Banglore', 'members': 450, 'mangers': 50}\n",
      "500\n",
      "{'location': 'hyderbad', 'members': 650, 'mangers': 55}\n",
      "{'location': 'chenai', 'members': 500, 'mangers': 45}\n"
     ]
    }
   ],
   "source": [
    "class office:\n",
    "    def __init__(self,location,members,mangers):\n",
    "        self.location=location\n",
    "        self.members=members\n",
    "        self.mangers=mangers\n",
    "Amat1=office(\"Banglore\",450,50)\n",
    "Amat2=office(\"chenai\",500,45)\n",
    "Amat3=office(\"hyderbad\",650,55)\n",
    "print(Amat1.__dict__)\n",
    "print(Amat2.members)\n",
    "print(Amat3.__dict__)\n",
    "print(Amat2.__dict__)"
   ]
  },
  {
   "cell_type": "code",
   "execution_count": 12,
   "metadata": {},
   "outputs": [
    {
     "name": "stdout",
     "output_type": "stream",
     "text": [
      "{'champions': 'rajasthan', 'runneroff': 'chenai', 'mos': 'shane_marsh', 'higest_wicket_taker': 'munaff', 'best_power_play_score': 76}\n",
      "{'champions': 'decan charges', 'runneroff': 'rcb', 'mos': 'raina', 'higest_wicket_taker': 'sreshanth'}\n"
     ]
    }
   ],
   "source": [
    "class cricket:\n",
    "    def __init__(self,champions,runneroff,mos,higest_wicket_taker):\n",
    "        self.champions=champions\n",
    "        self.runneroff=runneroff\n",
    "        self.mos=mos\n",
    "        self.higest_wicket_taker=higest_wicket_taker\n",
    "ipl1=cricket(\"rajasthan\",\"chenai\",\"shane_marsh\",\"munaff\")\n",
    "ipl2=cricket(\"decan charges\",\"rcb\",\"raina\",\"sreshanth\")\n",
    "ipl1.best_power_play_score=76\n",
    "print(ipl1.__dict__)\n",
    "print(ipl2.__dict__)"
   ]
  },
  {
   "cell_type": "code",
   "execution_count": 2,
   "metadata": {},
   "outputs": [
    {
     "name": "stdout",
     "output_type": "stream",
     "text": [
      "{'members': 4, 'mother_name': 'Lalitha', 'father_name': 'Ganapathy', 'location': 'Madikeri', 'mian_food': 'Chicken'}\n",
      "{'members': 5, 'mother_name': 'somamma', 'father_name': 'Madappa', 'location': 'Kutta'}\n",
      "{'members': 2, 'mother_name': 'Subbamma', 'father_name': 'karyappa', 'location': 'Virajpet'}\n",
      "karyappa\n"
     ]
    }
   ],
   "source": [
    "class Family:\n",
    "    def __init__(self,members,mother_name,father_name,location):\n",
    "        self.members=members\n",
    "        self.mother_name=mother_name\n",
    "        self.father_name=father_name\n",
    "        self.location=location\n",
    "Kullodanda=Family(4,\"Lalitha\",\"Ganapathy\",\"Madikeri\")\n",
    "Madhira=Family(5,\"somamma\",\"Madappa\",\"Kutta\")\n",
    "Mallada=Family(2,\"Subbamma\",\"karyappa\",\"Virajpet\")\n",
    "Kullodanda.mian_food=\"Chicken\"\n",
    "print(Kullodanda.__dict__)\n",
    "print(Madhira.__dict__)\n",
    "print(Mallada.__dict__)\n",
    "print(Mallada.father_name)"
   ]
  }
 ],
 "metadata": {
  "kernelspec": {
   "display_name": "Python 3",
   "language": "python",
   "name": "python3"
  },
  "language_info": {
   "codemirror_mode": {
    "name": "ipython",
    "version": 3
   },
   "file_extension": ".py",
   "mimetype": "text/x-python",
   "name": "python",
   "nbconvert_exporter": "python",
   "pygments_lexer": "ipython3",
   "version": "3.7.6"
  }
 },
 "nbformat": 4,
 "nbformat_minor": 4
}
